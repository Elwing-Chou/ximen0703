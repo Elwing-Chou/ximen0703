{
  "nbformat": 4,
  "nbformat_minor": 0,
  "metadata": {
    "colab": {
      "provenance": [],
      "authorship_tag": "ABX9TyMWWkh7tUn56+gV7w7xMv/G",
      "include_colab_link": true
    },
    "kernelspec": {
      "name": "python3",
      "display_name": "Python 3"
    },
    "language_info": {
      "name": "python"
    }
  },
  "cells": [
    {
      "cell_type": "markdown",
      "metadata": {
        "id": "view-in-github",
        "colab_type": "text"
      },
      "source": [
        "<a href=\"https://colab.research.google.com/github/Elwing-Chou/ximen0703/blob/main/ximen0326.ipynb\" target=\"_parent\"><img src=\"https://colab.research.google.com/assets/colab-badge.svg\" alt=\"Open In Colab\"/></a>"
      ]
    },
    {
      "cell_type": "code",
      "source": [
        "import random\n",
        "\n",
        "times = 5\n",
        "freq = [0] * 10\n",
        "i = 0\n",
        "while i < times:\n",
        "    n = random.randint(0, 9)\n",
        "    freq[n] = freq[n] + 1\n",
        "    i = i + 1\n",
        "print(freq)"
      ],
      "metadata": {
        "colab": {
          "base_uri": "https://localhost:8080/"
        },
        "id": "44BkCZRnJASl",
        "outputId": "e58f578c-a4ff-4c05-b490-61ab084f4da5"
      },
      "execution_count": 6,
      "outputs": [
        {
          "output_type": "stream",
          "name": "stdout",
          "text": [
            "[1, 0, 1, 1, 0, 0, 2, 0, 0, 0]\n"
          ]
        }
      ]
    },
    {
      "cell_type": "code",
      "execution_count": 3,
      "metadata": {
        "colab": {
          "base_uri": "https://localhost:8080/"
        },
        "id": "SCRTxh09I8Xb",
        "outputId": "e1321afc-3568-4a7e-e72c-848dd78e57dc"
      },
      "outputs": [
        {
          "output_type": "stream",
          "name": "stdout",
          "text": [
            "[34, 41, 25]\n"
          ]
        }
      ],
      "source": [
        "# optimize\n",
        "import random\n",
        "\n",
        "low, high = 50, 52\n",
        "kind = high - low + 1\n",
        "times = 100\n",
        "freq = [0] * kind\n",
        "i = 0\n",
        "while i < times:\n",
        "    n = random.randint(low, high)\n",
        "    freq[n-low] = freq[n-low] + 1\n",
        "    i = i + 1\n",
        "print(freq)"
      ]
    },
    {
      "cell_type": "markdown",
      "source": [
        "\n",
        "\n",
        "```\n",
        "密碼學\n",
        "1. 凱薩密碼:\n",
        "假設我們這個月的暗號是2\n",
        "你寫apple每個字母就要往後2個crrng\n",
        "\n",
        "2. 維吉尼亞密碼:\n",
        "a b c .... z\n",
        "d g f .... b\n",
        "暴力破解: 26 * 25 * 24 * 1 -> 26!\n",
        "接近10^30種: 不行暴力破解\n",
        "\n",
        "語言統計學: 字母頻率+biword\n",
        "\n",
        "3. Enigma\n",
        "加大維吉尼亞密碼的統計難度\n",
        "a .......z\n",
        "打亂第一套\n",
        "a .......z\n",
        "打亂第二套\n",
        "\n",
        "打亂第五套\n",
        "\n",
        "apples\n",
        "123451\n",
        "\n",
        "Alan Turing: 圖靈(模仿遊戲)\n",
        "\n",
        "```\n",
        "\n"
      ],
      "metadata": {
        "id": "JexWYS4ONRVP"
      }
    },
    {
      "cell_type": "code",
      "source": [
        "s = \"applez\"\n",
        "shift = 2\n",
        "# CRrngb\n",
        "result = \"\"\n",
        "\n",
        "i = 0\n",
        "while i < len(s):\n",
        "    # 拿出每一個字母 s[]\n",
        "    c = s[i]\n",
        "    # ASCII編碼表: 每一個->編碼成電腦01001\n",
        "    # ord(\"a\")->編碼(97-122)\n",
        "    n = ord(c) - ord(\"a\")\n",
        "    # 0(a)-25(z)->shift2->97-122\n",
        "    n_shift = (n + shift) % 26 + ord(\"a\")\n",
        "    # 解碼 chr(97)\n",
        "    result = result + chr(n_shift)\n",
        "    i = i + 1\n",
        "print(result)"
      ],
      "metadata": {
        "colab": {
          "base_uri": "https://localhost:8080/"
        },
        "id": "53Z_nilFRx1I",
        "outputId": "ac0f36af-a38e-4fb4-975a-501a273c674d"
      },
      "execution_count": 16,
      "outputs": [
        {
          "output_type": "stream",
          "name": "stdout",
          "text": [
            "crrngb\n"
          ]
        }
      ]
    },
    {
      "cell_type": "code",
      "source": [
        "s = \"APPlez\"\n",
        "shift = 2\n",
        "# CRRngb\n",
        "result = \"\"\n",
        "\n",
        "i = 0\n",
        "while i < len(s):\n",
        "    c = s[i]\n",
        "    # if ord(c) >= ord(\"A\") and ord(c) <= ord(\"Z\")\n",
        "    if ord(\"A\") <= ord(c) <= ord(\"Z\"):\n",
        "        base_shift = ord(\"A\")\n",
        "    elif ord(\"a\") <= ord(c) <= ord(\"z\"):\n",
        "        base_shift = ord(\"a\")\n",
        "    # 不管大小寫, 都讓他回到0-25\n",
        "    n = ord(c) - base_shift\n",
        "    # 再根據他是大小寫, 把他調回他該有的位置\n",
        "    n_shift = (n + shift) % 26 + base_shift\n",
        "    result = result + chr(n_shift)\n",
        "    i = i + 1\n",
        "print(result)"
      ],
      "metadata": {
        "colab": {
          "base_uri": "https://localhost:8080/"
        },
        "id": "Ew_Zvg0hcZTY",
        "outputId": "82461242-6a38-489c-cd78-bc1c0dd5da32"
      },
      "execution_count": 17,
      "outputs": [
        {
          "output_type": "stream",
          "name": "stdout",
          "text": [
            "CRRngb\n"
          ]
        }
      ]
    },
    {
      "cell_type": "markdown",
      "source": [
        "```\n",
        "迴圈part3. 不是用次數控制\n",
        "* 發揮創意, 你不用再寫i=0, while i<次,i=i+1\n",
        "```"
      ],
      "metadata": {
        "id": "s9b9IpTThZ95"
      }
    },
    {
      "cell_type": "code",
      "source": [
        "import random\n",
        "\n",
        "win, even, lose = 0, 0, 0\n",
        "trans = [\"LOSE :(\", \"EVEN\", \"WIN :)\"]\n",
        "while (win < 3) and (lose < 3):\n",
        "    # -1: lose 0: even 1: win\n",
        "    result = random.randint(-1, 1)\n",
        "    print(trans[result+1])\n",
        "    if result == -1:\n",
        "        lose = lose + 1\n",
        "    elif result == 0:\n",
        "        even = even + 1\n",
        "    elif result == 1:\n",
        "        win = win + 1\n",
        "if win > lose:\n",
        "    print(\"總體WIN\")\n",
        "else:\n",
        "    print(\"總體輸\")"
      ],
      "metadata": {
        "colab": {
          "base_uri": "https://localhost:8080/"
        },
        "id": "4N0hS1tzhkKX",
        "outputId": "01cbca6c-c19e-4e50-85fe-1af69e96d53a"
      },
      "execution_count": 25,
      "outputs": [
        {
          "output_type": "stream",
          "name": "stdout",
          "text": [
            "WIN :)\n",
            "EVEN\n",
            "LOSE :(\n",
            "EVEN\n",
            "LOSE :(\n",
            "WIN :)\n",
            "LOSE :(\n",
            "總體輸\n"
          ]
        }
      ]
    },
    {
      "cell_type": "code",
      "source": [
        "import random\n",
        "\n",
        "win, even, lose = 0, 0, 0\n",
        "trans = [\"LOSE :(\", \"EVEN\", \"WIN :)\"]\n",
        "while True:\n",
        "    # -1: lose 0: even 1: win\n",
        "    result = random.randint(-1, 1)\n",
        "    print(trans[result+1])\n",
        "    if result == -1:\n",
        "        lose = lose + 1\n",
        "    elif result == 0:\n",
        "        even = even + 1\n",
        "    elif result == 1:\n",
        "        win = win + 1\n",
        "    # !!!! while True+break\n",
        "    # 1. 很自由, 你不用組合\n",
        "    # 2. 收尾工作很自由\n",
        "    # 3?. 結束通常比較好說中文\n",
        "    if win == 3:\n",
        "        print(\"總體WIN\")\n",
        "        break\n",
        "    elif lose == 3:\n",
        "        print(\"總體LOSE\")\n",
        "        break\n"
      ],
      "metadata": {
        "colab": {
          "base_uri": "https://localhost:8080/"
        },
        "id": "ow0YwJdEqPoI",
        "outputId": "3beb0733-8de0-4c7e-e80f-1be9d077d287"
      },
      "execution_count": 26,
      "outputs": [
        {
          "output_type": "stream",
          "name": "stdout",
          "text": [
            "WIN :)\n",
            "EVEN\n",
            "WIN :)\n",
            "WIN :)\n",
            "總體WIN\n"
          ]
        }
      ]
    },
    {
      "cell_type": "markdown",
      "source": [
        "```\n",
        "基礎型態:\n",
        "1. 數字\n",
        "2. 字串\n",
        "3. 布林(是否): True False\n",
        "4. ????\n",
        "\n",
        "複雜型態:\n",
        "1. list\n",
        "\n",
        "布林:\n",
        "1. 不: if not a >= 3\n",
        "2. 組合: 條件1 and/or 條件2\n",
        "and: 而且 or: 或者\n",
        "\n",
        "```"
      ],
      "metadata": {
        "id": "Gz29NALRl8TP"
      }
    },
    {
      "cell_type": "code",
      "source": [
        "# gram\n",
        "p, c, f = 0, 0, 0\n",
        "while True:\n",
        "    category = input(\"[p]:protein [c]:carbon [f]:fat [s]:stop\")\n",
        "    # 如果是p, c, f的話, 你還要再讓他input己克\n",
        "    if category == \"p\":\n",
        "        pass\n",
        "calorie = p * 4 + c * 4 + f * 9\n",
        "print(\"今天熱量:\", calorie)"
      ],
      "metadata": {
        "id": "W570tIX-sp_Z"
      },
      "execution_count": null,
      "outputs": []
    }
  ]
}