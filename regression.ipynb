{
  "nbformat": 4,
  "nbformat_minor": 0,
  "metadata": {
    "colab": {
      "provenance": [],
      "authorship_tag": "ABX9TyPyYAi/TtXtOjNwlRhrzVmJ",
      "include_colab_link": true
    },
    "kernelspec": {
      "name": "python3",
      "display_name": "Python 3"
    },
    "language_info": {
      "name": "python"
    }
  },
  "cells": [
    {
      "cell_type": "markdown",
      "metadata": {
        "id": "view-in-github",
        "colab_type": "text"
      },
      "source": [
        "<a href=\"https://colab.research.google.com/github/Elwing-Chou/ximen0703/blob/main/regression.ipynb\" target=\"_parent\"><img src=\"https://colab.research.google.com/assets/colab-badge.svg\" alt=\"Open In Colab\"/></a>"
      ]
    },
    {
      "cell_type": "markdown",
      "source": [
        "bmi body mass index\n",
        "\n",
        "bp average blood pressure\n",
        "\n",
        "s1 tc, total serum cholesterol\n",
        "\n",
        "s2 ldl, low-density lipoproteins\n",
        "\n",
        "s3 hdl, high-density lipoproteins\n",
        "\n",
        "s4 tch, total cholesterol / HDL\n",
        "\n",
        "s5 ltg, possibly log of serum triglycerides level\n",
        "\n",
        "s6 glu, blood sugar level"
      ],
      "metadata": {
        "id": "catOo7Zq7oTa"
      }
    },
    {
      "cell_type": "code",
      "execution_count": 13,
      "metadata": {
        "id": "cq4pS2Qp4SdF",
        "colab": {
          "base_uri": "https://localhost:8080/",
          "height": 423
        },
        "outputId": "16e30c20-ca51-447a-a39c-3bc2761e2a25"
      },
      "outputs": [
        {
          "output_type": "execute_result",
          "data": {
            "text/plain": [
              "      age  sex   bmi      bp     s1     s2    s3    s4      s5     s6    ans\n",
              "0    59.0  2.0  32.1  101.00  157.0   93.2  38.0  4.00  4.8598   87.0  151.0\n",
              "1    48.0  1.0  21.6   87.00  183.0  103.2  70.0  3.00  3.8918   69.0   75.0\n",
              "2    72.0  2.0  30.5   93.00  156.0   93.6  41.0  4.00  4.6728   85.0  141.0\n",
              "3    24.0  1.0  25.3   84.00  198.0  131.4  40.0  5.00  4.8903   89.0  206.0\n",
              "4    50.0  1.0  23.0  101.00  192.0  125.4  52.0  4.00  4.2905   80.0  135.0\n",
              "..    ...  ...   ...     ...    ...    ...   ...   ...     ...    ...    ...\n",
              "437  60.0  2.0  28.2  112.00  185.0  113.8  42.0  4.00  4.9836   93.0  178.0\n",
              "438  47.0  2.0  24.9   75.00  225.0  166.0  42.0  5.00  4.4427  102.0  104.0\n",
              "439  60.0  2.0  24.9   99.67  162.0  106.6  43.0  3.77  4.1271   95.0  132.0\n",
              "440  36.0  1.0  30.0   95.00  201.0  125.2  42.0  4.79  5.1299   85.0  220.0\n",
              "441  36.0  1.0  19.6   71.00  250.0  133.2  97.0  3.00  4.5951   92.0   57.0\n",
              "\n",
              "[442 rows x 11 columns]"
            ],
            "text/html": [
              "\n",
              "  <div id=\"df-522fb35f-8ce9-4bf2-9303-5538c9bef742\">\n",
              "    <div class=\"colab-df-container\">\n",
              "      <div>\n",
              "<style scoped>\n",
              "    .dataframe tbody tr th:only-of-type {\n",
              "        vertical-align: middle;\n",
              "    }\n",
              "\n",
              "    .dataframe tbody tr th {\n",
              "        vertical-align: top;\n",
              "    }\n",
              "\n",
              "    .dataframe thead th {\n",
              "        text-align: right;\n",
              "    }\n",
              "</style>\n",
              "<table border=\"1\" class=\"dataframe\">\n",
              "  <thead>\n",
              "    <tr style=\"text-align: right;\">\n",
              "      <th></th>\n",
              "      <th>age</th>\n",
              "      <th>sex</th>\n",
              "      <th>bmi</th>\n",
              "      <th>bp</th>\n",
              "      <th>s1</th>\n",
              "      <th>s2</th>\n",
              "      <th>s3</th>\n",
              "      <th>s4</th>\n",
              "      <th>s5</th>\n",
              "      <th>s6</th>\n",
              "      <th>ans</th>\n",
              "    </tr>\n",
              "  </thead>\n",
              "  <tbody>\n",
              "    <tr>\n",
              "      <th>0</th>\n",
              "      <td>59.0</td>\n",
              "      <td>2.0</td>\n",
              "      <td>32.1</td>\n",
              "      <td>101.00</td>\n",
              "      <td>157.0</td>\n",
              "      <td>93.2</td>\n",
              "      <td>38.0</td>\n",
              "      <td>4.00</td>\n",
              "      <td>4.8598</td>\n",
              "      <td>87.0</td>\n",
              "      <td>151.0</td>\n",
              "    </tr>\n",
              "    <tr>\n",
              "      <th>1</th>\n",
              "      <td>48.0</td>\n",
              "      <td>1.0</td>\n",
              "      <td>21.6</td>\n",
              "      <td>87.00</td>\n",
              "      <td>183.0</td>\n",
              "      <td>103.2</td>\n",
              "      <td>70.0</td>\n",
              "      <td>3.00</td>\n",
              "      <td>3.8918</td>\n",
              "      <td>69.0</td>\n",
              "      <td>75.0</td>\n",
              "    </tr>\n",
              "    <tr>\n",
              "      <th>2</th>\n",
              "      <td>72.0</td>\n",
              "      <td>2.0</td>\n",
              "      <td>30.5</td>\n",
              "      <td>93.00</td>\n",
              "      <td>156.0</td>\n",
              "      <td>93.6</td>\n",
              "      <td>41.0</td>\n",
              "      <td>4.00</td>\n",
              "      <td>4.6728</td>\n",
              "      <td>85.0</td>\n",
              "      <td>141.0</td>\n",
              "    </tr>\n",
              "    <tr>\n",
              "      <th>3</th>\n",
              "      <td>24.0</td>\n",
              "      <td>1.0</td>\n",
              "      <td>25.3</td>\n",
              "      <td>84.00</td>\n",
              "      <td>198.0</td>\n",
              "      <td>131.4</td>\n",
              "      <td>40.0</td>\n",
              "      <td>5.00</td>\n",
              "      <td>4.8903</td>\n",
              "      <td>89.0</td>\n",
              "      <td>206.0</td>\n",
              "    </tr>\n",
              "    <tr>\n",
              "      <th>4</th>\n",
              "      <td>50.0</td>\n",
              "      <td>1.0</td>\n",
              "      <td>23.0</td>\n",
              "      <td>101.00</td>\n",
              "      <td>192.0</td>\n",
              "      <td>125.4</td>\n",
              "      <td>52.0</td>\n",
              "      <td>4.00</td>\n",
              "      <td>4.2905</td>\n",
              "      <td>80.0</td>\n",
              "      <td>135.0</td>\n",
              "    </tr>\n",
              "    <tr>\n",
              "      <th>...</th>\n",
              "      <td>...</td>\n",
              "      <td>...</td>\n",
              "      <td>...</td>\n",
              "      <td>...</td>\n",
              "      <td>...</td>\n",
              "      <td>...</td>\n",
              "      <td>...</td>\n",
              "      <td>...</td>\n",
              "      <td>...</td>\n",
              "      <td>...</td>\n",
              "      <td>...</td>\n",
              "    </tr>\n",
              "    <tr>\n",
              "      <th>437</th>\n",
              "      <td>60.0</td>\n",
              "      <td>2.0</td>\n",
              "      <td>28.2</td>\n",
              "      <td>112.00</td>\n",
              "      <td>185.0</td>\n",
              "      <td>113.8</td>\n",
              "      <td>42.0</td>\n",
              "      <td>4.00</td>\n",
              "      <td>4.9836</td>\n",
              "      <td>93.0</td>\n",
              "      <td>178.0</td>\n",
              "    </tr>\n",
              "    <tr>\n",
              "      <th>438</th>\n",
              "      <td>47.0</td>\n",
              "      <td>2.0</td>\n",
              "      <td>24.9</td>\n",
              "      <td>75.00</td>\n",
              "      <td>225.0</td>\n",
              "      <td>166.0</td>\n",
              "      <td>42.0</td>\n",
              "      <td>5.00</td>\n",
              "      <td>4.4427</td>\n",
              "      <td>102.0</td>\n",
              "      <td>104.0</td>\n",
              "    </tr>\n",
              "    <tr>\n",
              "      <th>439</th>\n",
              "      <td>60.0</td>\n",
              "      <td>2.0</td>\n",
              "      <td>24.9</td>\n",
              "      <td>99.67</td>\n",
              "      <td>162.0</td>\n",
              "      <td>106.6</td>\n",
              "      <td>43.0</td>\n",
              "      <td>3.77</td>\n",
              "      <td>4.1271</td>\n",
              "      <td>95.0</td>\n",
              "      <td>132.0</td>\n",
              "    </tr>\n",
              "    <tr>\n",
              "      <th>440</th>\n",
              "      <td>36.0</td>\n",
              "      <td>1.0</td>\n",
              "      <td>30.0</td>\n",
              "      <td>95.00</td>\n",
              "      <td>201.0</td>\n",
              "      <td>125.2</td>\n",
              "      <td>42.0</td>\n",
              "      <td>4.79</td>\n",
              "      <td>5.1299</td>\n",
              "      <td>85.0</td>\n",
              "      <td>220.0</td>\n",
              "    </tr>\n",
              "    <tr>\n",
              "      <th>441</th>\n",
              "      <td>36.0</td>\n",
              "      <td>1.0</td>\n",
              "      <td>19.6</td>\n",
              "      <td>71.00</td>\n",
              "      <td>250.0</td>\n",
              "      <td>133.2</td>\n",
              "      <td>97.0</td>\n",
              "      <td>3.00</td>\n",
              "      <td>4.5951</td>\n",
              "      <td>92.0</td>\n",
              "      <td>57.0</td>\n",
              "    </tr>\n",
              "  </tbody>\n",
              "</table>\n",
              "<p>442 rows × 11 columns</p>\n",
              "</div>\n",
              "      <button class=\"colab-df-convert\" onclick=\"convertToInteractive('df-522fb35f-8ce9-4bf2-9303-5538c9bef742')\"\n",
              "              title=\"Convert this dataframe to an interactive table.\"\n",
              "              style=\"display:none;\">\n",
              "        \n",
              "  <svg xmlns=\"http://www.w3.org/2000/svg\" height=\"24px\"viewBox=\"0 0 24 24\"\n",
              "       width=\"24px\">\n",
              "    <path d=\"M0 0h24v24H0V0z\" fill=\"none\"/>\n",
              "    <path d=\"M18.56 5.44l.94 2.06.94-2.06 2.06-.94-2.06-.94-.94-2.06-.94 2.06-2.06.94zm-11 1L8.5 8.5l.94-2.06 2.06-.94-2.06-.94L8.5 2.5l-.94 2.06-2.06.94zm10 10l.94 2.06.94-2.06 2.06-.94-2.06-.94-.94-2.06-.94 2.06-2.06.94z\"/><path d=\"M17.41 7.96l-1.37-1.37c-.4-.4-.92-.59-1.43-.59-.52 0-1.04.2-1.43.59L10.3 9.45l-7.72 7.72c-.78.78-.78 2.05 0 2.83L4 21.41c.39.39.9.59 1.41.59.51 0 1.02-.2 1.41-.59l7.78-7.78 2.81-2.81c.8-.78.8-2.07 0-2.86zM5.41 20L4 18.59l7.72-7.72 1.47 1.35L5.41 20z\"/>\n",
              "  </svg>\n",
              "      </button>\n",
              "      \n",
              "  <style>\n",
              "    .colab-df-container {\n",
              "      display:flex;\n",
              "      flex-wrap:wrap;\n",
              "      gap: 12px;\n",
              "    }\n",
              "\n",
              "    .colab-df-convert {\n",
              "      background-color: #E8F0FE;\n",
              "      border: none;\n",
              "      border-radius: 50%;\n",
              "      cursor: pointer;\n",
              "      display: none;\n",
              "      fill: #1967D2;\n",
              "      height: 32px;\n",
              "      padding: 0 0 0 0;\n",
              "      width: 32px;\n",
              "    }\n",
              "\n",
              "    .colab-df-convert:hover {\n",
              "      background-color: #E2EBFA;\n",
              "      box-shadow: 0px 1px 2px rgba(60, 64, 67, 0.3), 0px 1px 3px 1px rgba(60, 64, 67, 0.15);\n",
              "      fill: #174EA6;\n",
              "    }\n",
              "\n",
              "    [theme=dark] .colab-df-convert {\n",
              "      background-color: #3B4455;\n",
              "      fill: #D2E3FC;\n",
              "    }\n",
              "\n",
              "    [theme=dark] .colab-df-convert:hover {\n",
              "      background-color: #434B5C;\n",
              "      box-shadow: 0px 1px 3px 1px rgba(0, 0, 0, 0.15);\n",
              "      filter: drop-shadow(0px 1px 2px rgba(0, 0, 0, 0.3));\n",
              "      fill: #FFFFFF;\n",
              "    }\n",
              "  </style>\n",
              "\n",
              "      <script>\n",
              "        const buttonEl =\n",
              "          document.querySelector('#df-522fb35f-8ce9-4bf2-9303-5538c9bef742 button.colab-df-convert');\n",
              "        buttonEl.style.display =\n",
              "          google.colab.kernel.accessAllowed ? 'block' : 'none';\n",
              "\n",
              "        async function convertToInteractive(key) {\n",
              "          const element = document.querySelector('#df-522fb35f-8ce9-4bf2-9303-5538c9bef742');\n",
              "          const dataTable =\n",
              "            await google.colab.kernel.invokeFunction('convertToInteractive',\n",
              "                                                     [key], {});\n",
              "          if (!dataTable) return;\n",
              "\n",
              "          const docLinkHtml = 'Like what you see? Visit the ' +\n",
              "            '<a target=\"_blank\" href=https://colab.research.google.com/notebooks/data_table.ipynb>data table notebook</a>'\n",
              "            + ' to learn more about interactive tables.';\n",
              "          element.innerHTML = '';\n",
              "          dataTable['output_type'] = 'display_data';\n",
              "          await google.colab.output.renderOutput(dataTable, element);\n",
              "          const docLink = document.createElement('div');\n",
              "          docLink.innerHTML = docLinkHtml;\n",
              "          element.appendChild(docLink);\n",
              "        }\n",
              "      </script>\n",
              "    </div>\n",
              "  </div>\n",
              "  "
            ]
          },
          "metadata": {},
          "execution_count": 13
        }
      ],
      "source": [
        "import pandas as pd\n",
        "from sklearn.datasets import load_diabetes\n",
        "diabetes = load_diabetes(scaled=False)\n",
        "# DataFrame(2D) Series(1D)\n",
        "data = pd.DataFrame(diabetes[\"data\"], columns=diabetes[\"feature_names\"])\n",
        "data[\"ans\"] = diabetes[\"target\"]\n",
        "data"
      ]
    },
    {
      "cell_type": "code",
      "source": [
        "from sklearn.model_selection import train_test_split\n",
        "x = data.drop(\"ans\", axis=1)\n",
        "y = data[\"ans\"]\n",
        "# [90% x, 10% x, 90% y, 10% y]\n",
        "x_train, x_test, y_train, y_test = train_test_split(x, y, test_size=0.1)"
      ],
      "metadata": {
        "id": "m7RCiJpc9ffC"
      },
      "execution_count": 14,
      "outputs": []
    },
    {
      "cell_type": "code",
      "source": [
        "from sklearn.tree import DecisionTreeRegressor\n",
        "reg = DecisionTreeRegressor(max_depth=4)\n",
        "reg.fit(x_train, y_train)"
      ],
      "metadata": {
        "colab": {
          "base_uri": "https://localhost:8080/",
          "height": 74
        },
        "id": "lpldJTbqvUhi",
        "outputId": "da89d3a2-7b3e-4812-c119-c018088c99ed"
      },
      "execution_count": 54,
      "outputs": [
        {
          "output_type": "execute_result",
          "data": {
            "text/plain": [
              "DecisionTreeRegressor(max_depth=4)"
            ],
            "text/html": [
              "<style>#sk-container-id-12 {color: black;background-color: white;}#sk-container-id-12 pre{padding: 0;}#sk-container-id-12 div.sk-toggleable {background-color: white;}#sk-container-id-12 label.sk-toggleable__label {cursor: pointer;display: block;width: 100%;margin-bottom: 0;padding: 0.3em;box-sizing: border-box;text-align: center;}#sk-container-id-12 label.sk-toggleable__label-arrow:before {content: \"▸\";float: left;margin-right: 0.25em;color: #696969;}#sk-container-id-12 label.sk-toggleable__label-arrow:hover:before {color: black;}#sk-container-id-12 div.sk-estimator:hover label.sk-toggleable__label-arrow:before {color: black;}#sk-container-id-12 div.sk-toggleable__content {max-height: 0;max-width: 0;overflow: hidden;text-align: left;background-color: #f0f8ff;}#sk-container-id-12 div.sk-toggleable__content pre {margin: 0.2em;color: black;border-radius: 0.25em;background-color: #f0f8ff;}#sk-container-id-12 input.sk-toggleable__control:checked~div.sk-toggleable__content {max-height: 200px;max-width: 100%;overflow: auto;}#sk-container-id-12 input.sk-toggleable__control:checked~label.sk-toggleable__label-arrow:before {content: \"▾\";}#sk-container-id-12 div.sk-estimator input.sk-toggleable__control:checked~label.sk-toggleable__label {background-color: #d4ebff;}#sk-container-id-12 div.sk-label input.sk-toggleable__control:checked~label.sk-toggleable__label {background-color: #d4ebff;}#sk-container-id-12 input.sk-hidden--visually {border: 0;clip: rect(1px 1px 1px 1px);clip: rect(1px, 1px, 1px, 1px);height: 1px;margin: -1px;overflow: hidden;padding: 0;position: absolute;width: 1px;}#sk-container-id-12 div.sk-estimator {font-family: monospace;background-color: #f0f8ff;border: 1px dotted black;border-radius: 0.25em;box-sizing: border-box;margin-bottom: 0.5em;}#sk-container-id-12 div.sk-estimator:hover {background-color: #d4ebff;}#sk-container-id-12 div.sk-parallel-item::after {content: \"\";width: 100%;border-bottom: 1px solid gray;flex-grow: 1;}#sk-container-id-12 div.sk-label:hover label.sk-toggleable__label {background-color: #d4ebff;}#sk-container-id-12 div.sk-serial::before {content: \"\";position: absolute;border-left: 1px solid gray;box-sizing: border-box;top: 0;bottom: 0;left: 50%;z-index: 0;}#sk-container-id-12 div.sk-serial {display: flex;flex-direction: column;align-items: center;background-color: white;padding-right: 0.2em;padding-left: 0.2em;position: relative;}#sk-container-id-12 div.sk-item {position: relative;z-index: 1;}#sk-container-id-12 div.sk-parallel {display: flex;align-items: stretch;justify-content: center;background-color: white;position: relative;}#sk-container-id-12 div.sk-item::before, #sk-container-id-12 div.sk-parallel-item::before {content: \"\";position: absolute;border-left: 1px solid gray;box-sizing: border-box;top: 0;bottom: 0;left: 50%;z-index: -1;}#sk-container-id-12 div.sk-parallel-item {display: flex;flex-direction: column;z-index: 1;position: relative;background-color: white;}#sk-container-id-12 div.sk-parallel-item:first-child::after {align-self: flex-end;width: 50%;}#sk-container-id-12 div.sk-parallel-item:last-child::after {align-self: flex-start;width: 50%;}#sk-container-id-12 div.sk-parallel-item:only-child::after {width: 0;}#sk-container-id-12 div.sk-dashed-wrapped {border: 1px dashed gray;margin: 0 0.4em 0.5em 0.4em;box-sizing: border-box;padding-bottom: 0.4em;background-color: white;}#sk-container-id-12 div.sk-label label {font-family: monospace;font-weight: bold;display: inline-block;line-height: 1.2em;}#sk-container-id-12 div.sk-label-container {text-align: center;}#sk-container-id-12 div.sk-container {/* jupyter's `normalize.less` sets `[hidden] { display: none; }` but bootstrap.min.css set `[hidden] { display: none !important; }` so we also need the `!important` here to be able to override the default hidden behavior on the sphinx rendered scikit-learn.org. See: https://github.com/scikit-learn/scikit-learn/issues/21755 */display: inline-block !important;position: relative;}#sk-container-id-12 div.sk-text-repr-fallback {display: none;}</style><div id=\"sk-container-id-12\" class=\"sk-top-container\"><div class=\"sk-text-repr-fallback\"><pre>DecisionTreeRegressor(max_depth=4)</pre><b>In a Jupyter environment, please rerun this cell to show the HTML representation or trust the notebook. <br />On GitHub, the HTML representation is unable to render, please try loading this page with nbviewer.org.</b></div><div class=\"sk-container\" hidden><div class=\"sk-item\"><div class=\"sk-estimator sk-toggleable\"><input class=\"sk-toggleable__control sk-hidden--visually\" id=\"sk-estimator-id-12\" type=\"checkbox\" checked><label for=\"sk-estimator-id-12\" class=\"sk-toggleable__label sk-toggleable__label-arrow\">DecisionTreeRegressor</label><div class=\"sk-toggleable__content\"><pre>DecisionTreeRegressor(max_depth=4)</pre></div></div></div></div></div>"
            ]
          },
          "metadata": {},
          "execution_count": 54
        }
      ]
    },
    {
      "cell_type": "code",
      "source": [
        "import matplotlib.pyplot as plt\n",
        "from sklearn.tree import plot_tree\n",
        "plt.figure(figsize=[10, 10])\n",
        "plot_tree(reg,\n",
        "     feature_names=x.columns,\n",
        "     filled=True,\n",
        "     max_depth=1)"
      ],
      "metadata": {
        "colab": {
          "base_uri": "https://localhost:8080/",
          "height": 817
        },
        "id": "f44Lrxf_wm3C",
        "outputId": "5b5f38e0-98ee-4039-bb98-adda43a0b0be"
      },
      "execution_count": 58,
      "outputs": [
        {
          "output_type": "execute_result",
          "data": {
            "text/plain": [
              "[Text(0.5, 0.8333333333333334, 'bmi <= 27.25\\nsquared_error = 5775.873\\nsamples = 397\\nvalue = 150.126'),\n",
              " Text(0.25, 0.5, 's5 <= 4.6\\nsquared_error = 3569.298\\nsamples = 253\\nvalue = 119.336'),\n",
              " Text(0.125, 0.16666666666666666, '\\n  (...)  \\n'),\n",
              " Text(0.375, 0.16666666666666666, '\\n  (...)  \\n'),\n",
              " Text(0.75, 0.5, 's6 <= 99.5\\nsquared_error = 5060.673\\nsamples = 144\\nvalue = 204.222'),\n",
              " Text(0.625, 0.16666666666666666, '\\n  (...)  \\n'),\n",
              " Text(0.875, 0.16666666666666666, '\\n  (...)  \\n')]"
            ]
          },
          "metadata": {},
          "execution_count": 58
        },
        {
          "output_type": "display_data",
          "data": {
            "text/plain": [
              "<Figure size 1000x1000 with 1 Axes>"
            ],
            "image/png": "[encoded data removed]"
          },
          "metadata": {}
        }
      ]
    },
    {
      "cell_type": "code",
      "source": [
        "from sklearn.metrics import r2_score\n",
        "pre = reg.predict(x_test)\n",
        "r2_score(y_test, pre)"
      ],
      "metadata": {
        "colab": {
          "base_uri": "https://localhost:8080/"
        },
        "id": "YzqQexTbMVpP",
        "outputId": "f0db982f-cb93-4da0-b3ff-71259d96936b"
      },
      "execution_count": 56,
      "outputs": [
        {
          "output_type": "execute_result",
          "data": {
            "text/plain": [
              "0.3338117313907246"
            ]
          },
          "metadata": {},
          "execution_count": 56
        }
      ]
    },
    {
      "cell_type": "code",
      "source": [
        "import numpy as np\n",
        "from sklearn.model_selection import cross_val_score\n",
        "scores = cross_val_score(reg, x, y, scoring=\"r2\", cv=10, n_jobs=-1)\n",
        "print(scores)\n",
        "print(np.average(scores))"
      ],
      "metadata": {
        "colab": {
          "base_uri": "https://localhost:8080/"
        },
        "id": "vnKWkH-RlE85",
        "outputId": "4da83169-9004-4b0e-8bed-1fc4adcfa880"
      },
      "execution_count": 57,
      "outputs": [
        {
          "output_type": "stream",
          "name": "stdout",
          "text": [
            "[0.22141646 0.22140442 0.22803328 0.47180757 0.21802868 0.482048\n",
            " 0.38921616 0.05408302 0.18298856 0.41379842]\n",
            "0.28828245675340686\n"
          ]
        }
      ]
    }
  ]
}