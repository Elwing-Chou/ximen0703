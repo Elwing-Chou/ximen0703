{
  "nbformat": 4,
  "nbformat_minor": 0,
  "metadata": {
    "colab": {
      "provenance": [],
      "authorship_tag": "ABX9TyNtrSqgL3ioTICHJr1aSGwR",
      "include_colab_link": true
    },
    "kernelspec": {
      "name": "python3",
      "display_name": "Python 3"
    },
    "language_info": {
      "name": "python"
    }
  },
  "cells": [
    {
      "cell_type": "markdown",
      "metadata": {
        "id": "view-in-github",
        "colab_type": "text"
      },
      "source": [
        "<a href=\"https://colab.research.google.com/github/Elwing-Chou/ximen0703/blob/main/test.ipynb\" target=\"_parent\"><img src=\"https://colab.research.google.com/assets/colab-badge.svg\" alt=\"Open In Colab\"/></a>"
      ]
    },
    {
      "cell_type": "markdown",
      "source": [
        "Markdown語法\n",
        "\n",
        "Latex Math\n",
        "\n",
        "$ y = \\frac{1}{x+2} \\pi \\sum_{i=1}^n{a_i} $\n"
      ],
      "metadata": {
        "id": "AhKQOt3tqUia"
      }
    },
    {
      "cell_type": "code",
      "execution_count": 1,
      "metadata": {
        "id": "4kAhTDaLkPKl",
        "colab": {
          "base_uri": "https://localhost:8080/"
        },
        "outputId": "773a6bc9-422b-4bb7-ada3-2384f45422cb"
      },
      "outputs": [
        {
          "output_type": "stream",
          "name": "stdout",
          "text": [
            "3\n"
          ]
        }
      ],
      "source": []
    }
  ]
}