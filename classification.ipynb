{
  "nbformat": 4,
  "nbformat_minor": 0,
  "metadata": {
    "colab": {
      "provenance": [],
      "authorship_tag": "ABX9TyOYmsRBtFL/Lh2JqhkWvfzW",
      "include_colab_link": true
    },
    "kernelspec": {
      "name": "python3",
      "display_name": "Python 3"
    },
    "language_info": {
      "name": "python"
    }
  },
  "cells": [
    {
      "cell_type": "markdown",
      "metadata": {
        "id": "view-in-github",
        "colab_type": "text"
      },
      "source": [
        "<a href=\"https://colab.research.google.com/github/Elwing-Chou/ximen0703/blob/main/classification.ipynb\" target=\"_parent\"><img src=\"https://colab.research.google.com/assets/colab-badge.svg\" alt=\"Open In Colab\"/></a>"
      ]
    },
    {
      "cell_type": "markdown",
      "source": [
        "準備資料多寡 = 問題難易度(欄位多寡)\n",
        "\n",
        "1. 機器學習: k-w\n",
        "2. 深度學習: w-10w"
      ],
      "metadata": {
        "id": "catOo7Zq7oTa"
      }
    },
    {
      "cell_type": "code",
      "execution_count": null,
      "metadata": {
        "id": "cq4pS2Qp4SdF"
      },
      "outputs": [],
      "source": [
        "import pandas as pd\n",
        "from sklearn.datasets import load_iris\n",
        "iris = load_iris()\n",
        "# DataFrame(2D) Series(1D)\n",
        "data = pd.DataFrame(iris[\"data\"], columns=iris[\"feature_names\"])\n",
        "data[\"ans\"] = iris[\"target\"]\n",
        "data"
      ]
    },
    {
      "cell_type": "code",
      "source": [
        "from sklearn.model_selection import train_test_split\n",
        "x = data.drop(\"ans\", axis=1)\n",
        "y = data[\"ans\"]\n",
        "# [90% x, 10% x, 90% y, 10% y]\n",
        "x_train, x_test, y_train, y_test = train_test_split(x, y, test_size=0.1)"
      ],
      "metadata": {
        "id": "m7RCiJpc9ffC"
      },
      "execution_count": null,
      "outputs": []
    },
    {
      "cell_type": "code",
      "source": [
        "# demo\n",
        "train_test_split([1, 2, 3, 4, 5],\n",
        "         [6, 7, 8, 9, 10],\n",
        "         test_size=0.2)"
      ],
      "metadata": {
        "colab": {
          "base_uri": "https://localhost:8080/"
        },
        "id": "toPL8PQK-mxM",
        "outputId": "58860709-cb84-4048-e28e-84e588355a2d"
      },
      "execution_count": 14,
      "outputs": [
        {
          "output_type": "execute_result",
          "data": {
            "text/plain": [
              "[[2, 1, 4, 5], [3], [7, 6, 9, 10], [8]]"
            ]
          },
          "metadata": {},
          "execution_count": 14
        }
      ]
    }
  ]
}